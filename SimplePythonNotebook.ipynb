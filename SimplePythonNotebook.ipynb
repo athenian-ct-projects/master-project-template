{
  "nbformat": 4,
  "nbformat_minor": 0,
  "metadata": {
    "colab": {
      "name": "Untitled2.ipynb",
      "provenance": [],
      "authorship_tag": "ABX9TyNPv8DIijiTqGjyOGid8Z74"
    },
    "kernelspec": {
      "name": "python3",
      "display_name": "Python 3"
    }
  },
  "cells": [
    {
      "cell_type": "markdown",
      "metadata": {
        "id": "x_og8NITgOXG",
        "colab_type": "text"
      },
      "source": [
        "# This is a notebook template"
      ]
    },
    {
      "cell_type": "code",
      "metadata": {
        "id": "H1pCgovOf7Ub",
        "colab_type": "code",
        "colab": {
          "base_uri": "https://localhost:8080/",
          "height": 34
        },
        "outputId": "73df4537-5dc4-4f56-e24b-e8cd9d55ccb8"
      },
      "source": [
        "a = 345\n",
        "print (4 + a)"
      ],
      "execution_count": 1,
      "outputs": [
        {
          "output_type": "stream",
          "text": [
            "349\n"
          ],
          "name": "stdout"
        }
      ]
    }
  ]
}